{
 "cells": [
  {
   "cell_type": "markdown",
   "metadata": {},
   "source": [
    "## Player data\n",
    "\n",
    "I've been doing research on player statistics. I found a section of the ESPN website, by a columnist of the name Hollinger. I will be attempting to extract the info from there. I saved all eleven pages as HTML files and going to take the information from there. That's what I call ethical Web Scraping."
   ]
  },
  {
   "cell_type": "code",
   "execution_count": null,
   "metadata": {},
   "outputs": [],
   "source": [
    "import os\n",
    "import re\n",
    "directory = os.fsencode(\"../GIT_NO/PLAYER_STATS_2scrape\")\n",
    "\n",
    "webpage = open(\"../GIT_NO/PLAYER_STATS_2scrape/Page_1.htm\", \"r\").read()\n",
    "\n",
    "headers = re.findall(r'<td .* ></td>')\n",
    "\n",
    "headers\n",
    "# for file in os.listdir(directory):\n",
    "#     pass"
   ]
  }
 ],
 "metadata": {
  "language_info": {
   "name": "python"
  }
 },
 "nbformat": 4,
 "nbformat_minor": 2
}
