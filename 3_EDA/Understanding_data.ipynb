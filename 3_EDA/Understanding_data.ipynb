{
 "cells": [
  {
   "cell_type": "markdown",
   "metadata": {},
   "source": [
    "# Analyzing The Data\n",
    "\n",
    "So far we have a lot of game data and very little understanding of it. So let's try to make some nice looking graphs and look at all of our variables, to see what the most important factors are when we look at the bigger picture. "
   ]
  },
  {
   "cell_type": "markdown",
   "metadata": {},
   "source": [
    "## Stating the obvious\n",
    "\n",
    "First let's state the obvious, the factor which will always determine if a team wins or not is whoever has the most points. \n",
    "\n",
    "Therefore we can easily state that we're trying to find which team will have the most points at the end of a match.\n",
    "\n",
    "Let's look at a small number of game recordings. In this case we'll be looking at eight games at a time. eight games of the same team to see what we can see from their wins and losses.(eight games of one team going against eight unique teams) Then another set of eight games, this time with different teams, all of which should appear once in the set. (eight games with a total of ten unique teams) to see what factors might be affecting them.\n",
    "\n",
    "This should give us a nice place to start."
   ]
  },
  {
   "cell_type": "markdown",
   "metadata": {},
   "source": [
    "### The Atlanta Hawks\n",
    "\n",
    "For our first set of analyzing one team's performance against different teams, we'll be looking at the Atlanta Hawks since their name is sorted first alphabetically making it easier to find. We'll look at:\n",
    "\n",
    "- two games at Home where they lost,\n",
    "- two games at Home and won,\n",
    "- two games Away and won,\n",
    "- two where Away and lost\n",
    "\n",
    "This is the reason we chose eight games, so we can look at more than one outcome from the two different environments the teams will be playing in."
   ]
  },
  {
   "cell_type": "code",
   "execution_count": 1,
   "metadata": {},
   "outputs": [],
   "source": [
    "# Initialize imports\n",
    "import pandas as pd\n",
    "import numpy as np\n",
    "import matplotlib.pyplot as plt\n",
    "import seaborn as sns"
   ]
  },
  {
   "cell_type": "code",
   "execution_count": 2,
   "metadata": {},
   "outputs": [],
   "source": [
    "# Initialize DataFrames\n",
    "\n",
    "# Home wins\n",
    "## ATL vs GSW\n",
    "ATL_GSW = pd.read_csv('../finalized_scripts/datasets/game_data/atlanta-hawks-golden-state-warriors-2024-02-04.csv')\n",
    "## ATL vs LAL\n",
    "ATL_LAL = pd.read_csv('../finalized_scripts/datasets/game_data/atlanta-hawks-los-angeles-lakers-2024-01-31.csv')\n",
    "\n",
    "# Home losses\n",
    "## ATL vs CLV\n",
    "ATL_CLV = pd.read_csv('../finalized_scripts/datasets/game_data/atlanta-hawks-cleveland-cavaliers-2024-01-21.csv')\n",
    "## ATL vs MEM\n",
    "ATL_MEM = pd.read_csv('../finalized_scripts/datasets/game_data/atlanta-hawks-memphis-grizzlies-2023-12-24.csv')\n",
    "\n",
    "# Away wins\n",
    "## ATL vs MIA\n",
    "MIA_ATL = pd.read_csv('../finalized_scripts/datasets/game_data/miami-heat-atlanta-hawks-2024-01-20.csv')\n",
    "## ATL vs MIL\n",
    "MIL_ATL = pd.read_csv('../finalized_scripts/datasets/game_data/milwaukee-bucks-atlanta-hawks-2023-12-03.csv')\n",
    "\n",
    "# Away losses\n",
    "## ATL vs BOS\n",
    "BOS_ATL = pd.read_csv('../finalized_scripts/datasets/game_data/boston-celtics-atlanta-hawks-2024-02-08.csv')\n",
    "## ATL vs CHA\n",
    "CHA_ATL = pd.read_csv('../finalized_scripts/datasets/game_data/charlotte-hornets-atlanta-hawks-2023-10-26.csv')\n"
   ]
  },
  {
   "cell_type": "markdown",
   "metadata": {},
   "source": [
    "For those not well versed in American city names and basketball teams let me define what all these acronyms mean:\n",
    "\n",
    "- ATL: Atlanta (Hawks)\n",
    "<br><br>\n",
    "- GSW: Golden State Warriors (San Francisco)\n",
    "<br><br>\n",
    "- LAL: Los Angeles (Lakers)\n",
    "<br><br>\n",
    "- CLV: Cleveland (Cavaliers)\n",
    "<br><br>\n",
    "- MEM: Memphis (Grizzlies)\n",
    "<br><br>\n",
    "- MIA: Miami (Heat)\n",
    "<br><br>\n",
    "- MIL: Milwaukee (Bucks)\n",
    "<br><br>\n",
    "- BOS: Boston (Celtics)\n",
    "<br><br>\n",
    "- CHA: Charlotte (Hornets)\n",
    "\n",
    "Now that we're all on the same page let's try comparing these sets. We'll compare one game of each result against either a matching environment or the opposing environment.\n",
    "\n",
    "Since we all know that more points equals win, we're gonna exclude the 2M,3M,1M column. This is because knowing how many field goals, three pointers and free throws a team made will all add up to their total points.\n",
    "\n",
    "Instead I would like to look at the 2A,3A,1A since these are all attempts, as well every other variable like rebounds, assists, blocks, fouls, +/- (which I will get into what that statistic means), Eff(also very interesting) and To. (Turnovers)"
   ]
  },
  {
   "cell_type": "code",
   "execution_count": 5,
   "metadata": {},
   "outputs": [],
   "source": [
    "ATL_GSW_home = ATL_GSW[ATL_GSW['Team'] == 'AtlantaHawks']\n",
    "ATL_GSW_away = ATL_GSW[ATL_GSW['Team'] == 'GoldenStateWarriors']\n",
    "\n",
    "ATL_CLV_home = ATL_CLV[ATL_CLV['Team'] == 'AtlantaHawks']\n",
    "ATL_CLV_away = ATL_CLV[ATL_CLV['Team'] == 'ClevelandCavaliers']"
   ]
  },
  {
   "cell_type": "markdown",
   "metadata": {},
   "source": []
  },
  {
   "cell_type": "code",
   "execution_count": 4,
   "metadata": {},
   "outputs": [
    {
     "data": {
      "text/plain": [
       "Index(['PLAYER', 'Pts', 'Reb', '2M', '2A', '3M', '3A', '1M', '1A', 'Ast',\n",
       "       'MIN', 'FG%', '1%', 'Or', 'Dr', 'To', 'Stl', 'Blk', 'Fo', '+/-', 'Eff',\n",
       "       'Team'],\n",
       "      dtype='object')"
      ]
     },
     "execution_count": 4,
     "metadata": {},
     "output_type": "execute_result"
    }
   ],
   "source": []
  }
 ],
 "metadata": {
  "kernelspec": {
   "display_name": "Python 3",
   "language": "python",
   "name": "python3"
  },
  "language_info": {
   "codemirror_mode": {
    "name": "ipython",
    "version": 3
   },
   "file_extension": ".py",
   "mimetype": "text/x-python",
   "name": "python",
   "nbconvert_exporter": "python",
   "pygments_lexer": "ipython3",
   "version": "3.11.5"
  }
 },
 "nbformat": 4,
 "nbformat_minor": 2
}
