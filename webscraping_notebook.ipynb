{
 "cells": [
  {
   "cell_type": "markdown",
   "metadata": {},
   "source": [
    "## Webscraping\n",
    "Okie dokie so by using some regex patterns in Python I was able to find both tables, they are stored inside of a parent div with class name \"table__inner\". From there we can extract information from both tables.\n",
    "\n",
    "Table headers are neatly stored inside of the \\<th> tag."
   ]
  },
  {
   "cell_type": "code",
   "execution_count": 21,
   "metadata": {},
   "outputs": [],
   "source": [
    "import re\n",
    "import pandas as pd\n",
    "import numpy as np\n",
    "import urllib.request\n",
    "\n",
    "fp = urllib.request.urlopen(\"https://www.proballers.com/basketball/game/757056/denver-nuggets-los-angeles-lakers-2023-10-25\")\n",
    "mybytes = fp.read()\n",
    "\n",
    "webpage = mybytes.decode(\"utf8\")\n",
    "fp.close()\n",
    "\n",
    "tables =  re.findall(r'(<div class=\\\"table__inner\\\">[\\s\\S]*?<\\/table>)', webpage)\n",
    "\n",
    "team_1 = tables[0]\n",
    "team_2 = tables[1]\n",
    "\n",
    "team_headers = re.findall(r'(<th class=\\\".*\\\">.*<\\/th>)', team_1)\n",
    "team_headers = [re.sub(r'(<th class=\\\".*\\\">|<\\/th>)', '', header) for header in team_headers]\n"
   ]
  },
  {
   "cell_type": "markdown",
   "metadata": {},
   "source": [
    "Since both tables have the exact same column names, the headers only need to be extracted once.\n",
    "\n",
    "Now we can get to extracting all the data. Which is stored inside of the \\<td> tags. Some data such as player names are nested in an anchor tag which makes them slightly more challenging to extract.\n",
    "\n",
    "However with another regex pattern we can remove that anchor tag, but it's left with a lot of whitespaces. So the best I can do is make all the names camel case. Which is thankfully still readable."
   ]
  },
  {
   "cell_type": "code",
   "execution_count": 22,
   "metadata": {},
   "outputs": [],
   "source": [
    "# GET DATA FROM TEAM 1 TABLE\n",
    "team_1_data_raw = re.findall(r'(<td class=\\\".*\\\">[\\s\\S]*?<\\/td>)', team_1)\n",
    "team_1_data_raw = [re.sub(r'(<td class=\\\".*\\\">|<\\/td>|<a [\\s\\S]*?>\\n|\\n|<\\/a>|<div [\\s\\S]*?>[\\s\\S]*?>[\\s\\S]*?<\\/div>)','', data) for data in team_1_data_raw]\n",
    "\n",
    "# GET DATA FROM TEAM 2 TABLE\n",
    "team_2_data_raw = re.findall(r'(<td class=\\\".*\\\">[\\s\\S]*?<\\/td>)', team_2)\n",
    "team_2_data_raw = [re.sub(r'(<td class=\\\".*\\\">|<\\/td>|<a [\\s\\S]*?>\\n|\\n|<\\/a>|<div [\\s\\S]*?>[\\s\\S]*?>[\\s\\S]*?<\\/div>)','', data) for data in team_2_data_raw]"
   ]
  },
  {
   "cell_type": "code",
   "execution_count": 23,
   "metadata": {},
   "outputs": [],
   "source": [
    "# CREATE OBJECT TO INSERT INTO DATAFRAME\n",
    "team_1_data = {team_headers[i]: [] for i in range(len(team_headers))}\n",
    "team_2_data = {team_headers[i]: [] for i in range(len(team_headers))}\n"
   ]
  },
  {
   "cell_type": "code",
   "execution_count": 24,
   "metadata": {},
   "outputs": [],
   "source": [
    "# ITERATE THROUGH TEAM 1 AND TEAM 2 DATA AND INSERT INTO OBJECT\n",
    "row_iterator = 0\n",
    "for i in range(len(team_1_data_raw)):\n",
    "    if row_iterator == len(team_headers):\n",
    "        row_iterator = 0\n",
    "        team_1_data[team_headers[row_iterator]].append(team_1_data_raw[i])\n",
    "        team_2_data[team_headers[row_iterator]].append(team_2_data_raw[i])\n",
    "        row_iterator += 1\n",
    "    else:\n",
    "        team_1_data[team_headers[row_iterator]].append(team_1_data_raw[i])\n",
    "        team_2_data[team_headers[row_iterator]].append(team_2_data_raw[i])\n",
    "        row_iterator += 1\n"
   ]
  },
  {
   "cell_type": "code",
   "execution_count": 25,
   "metadata": {},
   "outputs": [],
   "source": [
    "# Remove whitespace from player names\n",
    "team_1_data['PLAYER'] = [re.sub(r'(\\s)', '', player) for player in team_1_data['PLAYER']]\n",
    "team_2_data['PLAYER'] = [re.sub(r'(\\s)', '', player) for player in team_2_data['PLAYER']]        "
   ]
  },
  {
   "cell_type": "markdown",
   "metadata": {},
   "source": [
    "## Duplicate columns\n",
    "\n",
    "The website I am currently scraping displays three columns twice for readability.\n",
    "\n",
    "- Pts\n",
    "- Ast\n",
    "- Reb\n",
    "\n",
    "This is a problem since now these three lists are twice the size as every other list.\n",
    "\n",
    "We also know that all the other columns are of length 13, and these three are of length 26. Therefore we should be able to split these three columns in half very quickly and go along our merry way to put them into a pandas dataframe.\n",
    "\n",
    "It will be noteably easier to cut these lists in half since our raw data is taken in order of from left to right. So messing with my iteration doesn't seem wise. Especially when Python has these features to quickly remove elements like this."
   ]
  },
  {
   "cell_type": "code",
   "execution_count": 26,
   "metadata": {},
   "outputs": [],
   "source": [
    "# Cut the length of Pts, Reb and Ast lists in half\n",
    "# Pts\n",
    "team_1_data['Pts'] = team_1_data['Pts'][0:len(team_1_data['Pts'])//2]\n",
    "team_2_data['Pts'] = team_2_data['Pts'][0:len(team_2_data['Pts'])//2]\n",
    "# Reb\n",
    "team_1_data['Reb'] = team_1_data['Reb'][0:len(team_1_data['Reb'])//2]\n",
    "team_2_data['Reb'] = team_2_data['Reb'][0:len(team_2_data['Reb'])//2]\n",
    "# Ast\n",
    "team_1_data['Ast'] = team_1_data['Ast'][0:len(team_1_data['Ast'])//2]\n",
    "team_2_data['Ast'] = team_2_data['Ast'][0:len(team_2_data['Ast'])//2]\n",
    "\n",
    "# Remove duplicate keys from team_1_data and team_2_data\n",
    "\n",
    "\n"
   ]
  },
  {
   "cell_type": "markdown",
   "metadata": {},
   "source": [
    "## Finally...\n",
    "\n",
    "We should be all set to insert our values into a pandas dataframe\n",
    "\n",
    "However, with duplicate values, comes duplicate columns. As you can see from the following print statements."
   ]
  },
  {
   "cell_type": "code",
   "execution_count": 27,
   "metadata": {},
   "outputs": [
    {
     "name": "stdout",
     "output_type": "stream",
     "text": [
      "HEADER:  PLAYER   13\n",
      "\n",
      "\n",
      "HEADER:  Pts   13\n",
      "\n",
      "\n",
      "HEADER:  Reb   13\n",
      "\n",
      "\n",
      "HEADER:  Ast   13\n",
      "\n",
      "\n",
      "HEADER:  MIN   13\n",
      "\n",
      "\n",
      "HEADER:  2M-2A   13\n",
      "\n",
      "\n",
      "HEADER:  3M-3A   13\n",
      "\n",
      "\n",
      "HEADER:  FG%   13\n",
      "\n",
      "\n",
      "HEADER:  1M-1A   13\n",
      "\n",
      "\n",
      "HEADER:  1%   13\n",
      "\n",
      "\n",
      "HEADER:  Or   13\n",
      "\n",
      "\n",
      "HEADER:  Dr   13\n",
      "\n",
      "\n",
      "HEADER:  Reb   13\n",
      "\n",
      "\n",
      "HEADER:  Ast   13\n",
      "\n",
      "\n",
      "HEADER:  To   13\n",
      "\n",
      "\n",
      "HEADER:  Stl   13\n",
      "\n",
      "\n",
      "HEADER:  Blk   13\n",
      "\n",
      "\n",
      "HEADER:  Fo   13\n",
      "\n",
      "\n",
      "HEADER:  Pts   13\n",
      "\n",
      "\n",
      "HEADER:  +/-   13\n",
      "\n",
      "\n",
      "HEADER:  Eff   13\n",
      "\n",
      "\n"
     ]
    }
   ],
   "source": [
    "# team_1_panda = pd.DataFrame(team_1_data)\n",
    "# team_2_panda = pd.DataFrame(team_2_data)\n",
    "\n",
    "for i in range(len(team_headers)):\n",
    "    print(\"HEADER: \",team_headers[i],\" \",len(team_1_data[team_headers[i]]))\n",
    "    print(\"\\n\")\n",
    "    # print(\"HEADER: \",team_headers[i],\" \",len(team_2_data[team_headers[i]]))\n",
    "    # print(\"\\n\")\n"
   ]
  },
  {
   "cell_type": "markdown",
   "metadata": {},
   "source": [
    "## Using pandas\n",
    "\n",
    "Duplicate columns aren't scary though. Since there are easy ways built into to pandas to determine if a column is duplicate and to remove them.\n",
    "\n",
    "Thank you pandas!"
   ]
  },
  {
   "cell_type": "code",
   "execution_count": 28,
   "metadata": {},
   "outputs": [
    {
     "name": "stdout",
     "output_type": "stream",
     "text": [
      "                     PLAYER Pts Reb Ast  MIN  2M-2A  3M-3A     FG% 1M-1A  \\\n",
      "0               NikolaJokic  29  13  11   36   9-17    3-5   54.5%   2-4   \n",
      "1               JamalMurray  29  13  11   34    5-8    3-5   61.5%   2-2   \n",
      "2   KentaviousCaldwell-Pope  21   2   6   36    6-9    2-3   66.7%   2-2   \n",
      "3               AaronGordon  21   2   6   35    6-9    1-2   63.6%   0-0   \n",
      "4             MichaelPorter  20   2   1   30    3-4    2-9   38.5%   0-0   \n",
      "5             ReggieJackson  20   2   1   24    1-3    2-5   37.5%   0-0   \n",
      "6            ChristianBraun  15   7   5   19    2-4    0-1   40.0%   1-2   \n",
      "7                 ZekeNnaji  15   7   5   12    1-2    0-1   33.3%   2-2   \n",
      "8              PeytonWatson  12  12   2   11    0-0    1-3   33.3%   0-0   \n",
      "9              JalenPickett  12  12   2    1    1-1    0-0  100.0%   0-0   \n",
      "10               BraxtonKey   8   3   1    1    0-0    0-0       -   0-0   \n",
      "11          CollinGillespie   8   3   1    1    0-0    0-0       -   0-0   \n",
      "12            DenverNuggets   5   3   2  240  34-57  14-34   52.7%  9-12   \n",
      "\n",
      "         1% Or  Dr  To Stl Blk  Fo +/-  Eff  \n",
      "0     50.0%  3  10   2   1   1   2  15   41  \n",
      "1    100.0%  0   2   1   0   1   3   3   24  \n",
      "2    100.0%  1   1   3   3   1   5  10   20  \n",
      "3         -  2   5   0   2   1   0   6   26  \n",
      "4         -  2  10   0   2   0   1  12   20  \n",
      "5         -  0   3   2   1   0   0  11    6  \n",
      "6     50.0%  1   2   1   0   1   1   5    6  \n",
      "7    100.0%  0   0   1   0   0   2  -3    2  \n",
      "8         -  0   0   1   0   1   1   1    1  \n",
      "9         -  0   0   0   0   0   0   0    2  \n",
      "10        -  0   0   0   0   0   0   0    0  \n",
      "11        -  0   0   0   0   0   0   0    0  \n",
      "12  75.0%    9  33  11   9   6  15  60  148  \n",
      "                  PLAYER Pts Reb Ast  MIN  2M-2A  3M-3A    FG%  1M-1A  \\\n",
      "0            LeBronJames  21   8   5   29   9-12    1-4  62.5%    0-1   \n",
      "1          TaureanPrince  21   8   5   30    2-2    4-6  75.0%    2-2   \n",
      "2           AnthonyDavis  18   3   1   34   5-15    1-2  35.3%    4-4   \n",
      "3           AustinReaves  18   3   1   31    3-9    1-2  36.4%    5-7   \n",
      "4   D&#039;AngeloRussell  17   8   4   36    2-7    2-5  33.3%    1-2   \n",
      "5         CameronReddish  17   8   4   18    1-2    1-2  50.0%    2-2   \n",
      "6          ChristianWood  14   8   4   15    3-3    0-1  75.0%    1-2   \n",
      "7            GabeVincent  14   8   4   22    3-4    0-4  37.5%    0-0   \n",
      "8           RuiHachimura  11   4   7   15    3-7    0-3  30.0%    0-0   \n",
      "9            JaxsonHayes  11   4   7    7    0-0    0-0      -    0-0   \n",
      "10          MaxwellLewis   7   4   0    1    0-0    0-0      -    0-0   \n",
      "11           MaxChristie   7   4   0    1    0-0    0-0      -    0-0   \n",
      "12      LosAngelesLakers   7   4   0  240  31-61  10-29  45.6%  15-20   \n",
      "\n",
      "         1%  Or  Dr  To Stl Blk  Fo  +/-  Eff  \n",
      "0      0.0%   1   7   0   1   0   1    7   28  \n",
      "1    100.0%   1   2   1   0   1   0  -14   20  \n",
      "2    100.0%   1   7   2   0   2   3  -17   18  \n",
      "3     71.4%   4   4   2   2   0   2  -14   17  \n",
      "4     50.0%   0   4   3   1   0   3    1   11  \n",
      "5    100.0%   2   2   0   0   1   2    7   10  \n",
      "6     50.0%   1   3   1   0   0   1    2    8  \n",
      "7         -   1   0   2   1   0   3  -17    3  \n",
      "8         -   2   1   0   0   0   2   -8    2  \n",
      "9         -   0   1   0   0   0   1   -7    1  \n",
      "10        -   0   0   0   0   0   0    0    0  \n",
      "11        -   0   0   0   0   0   0    0    0  \n",
      "12  75.0%    13  31  11   5   4  18  -60  118  \n"
     ]
    }
   ],
   "source": [
    "# Insert into dataframe\n",
    "team_1_panda = pd.DataFrame(team_1_data)\n",
    "team_2_panda = pd.DataFrame(team_2_data)\n",
    "\n",
    "# Remove duplicate keys from team_1_panda and team_2_panda\n",
    "team_1_panda = team_1_panda.loc[:,~team_1_panda.columns.duplicated()]\n",
    "team_2_panda = team_2_panda.loc[:,~team_2_panda.columns.duplicated()]\n",
    "print(team_1_panda)\n",
    "print(team_2_panda)"
   ]
  },
  {
   "cell_type": "markdown",
   "metadata": {},
   "source": [
    "## Exporting\n",
    "\n",
    "Now with our cleaned up code, we can export our dataframe to csv."
   ]
  },
  {
   "cell_type": "code",
   "execution_count": 32,
   "metadata": {},
   "outputs": [],
   "source": [
    "# Export to csv\n",
    "team_1_panda.to_csv('Denver_Nuggets.csv', index=False)\n",
    "team_2_panda.to_csv('LA_Lakers.csv' ,index=False)"
   ]
  }
 ],
 "metadata": {
  "kernelspec": {
   "display_name": "Python 3",
   "language": "python",
   "name": "python3"
  },
  "language_info": {
   "codemirror_mode": {
    "name": "ipython",
    "version": 3
   },
   "file_extension": ".py",
   "mimetype": "text/x-python",
   "name": "python",
   "nbconvert_exporter": "python",
   "pygments_lexer": "ipython3",
   "version": "3.11.5"
  }
 },
 "nbformat": 4,
 "nbformat_minor": 2
}
